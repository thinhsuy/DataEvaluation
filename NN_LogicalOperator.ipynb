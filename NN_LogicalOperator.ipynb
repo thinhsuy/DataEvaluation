{
 "cells": [
  {
   "cell_type": "code",
   "execution_count": 78,
   "metadata": {},
   "outputs": [],
   "source": [
    "import pandas as pd\n",
    "from VisaulizeArchitecture import *\n",
    "import random\n",
    "from math import fsum, e, log"
   ]
  },
  {
   "cell_type": "code",
   "execution_count": 79,
   "metadata": {},
   "outputs": [],
   "source": [
    "def Sigmoid(x):\n",
    "    return 1/(1+e**(-x))\n",
    "\n",
    "def ActiveFunc(x):\n",
    "    return Sigmoid(x)\n",
    "\n",
    "def h0(x):\n",
    "    return Sigmoid(x)\n",
    "\n",
    "def TransposeMatrix(X):\n",
    "    if (len(X)==1 and len(X[0])>1):\n",
    "        return [[value] for value in X[0]]\n",
    "    elif (len(X)>1 and len(X[0])==1):\n",
    "        return [value[0] for value in X]\n",
    "    return [[X[j][i] for j in range(len(X))] for i in range(len(X[0]))]\n",
    "\n",
    "def MultiplyMatrices(A, B):\n",
    "    return [[sum(a * b for a, b in zip(A_row, B_col))\n",
    "                        for B_col in zip(*B)]\n",
    "                                for A_row in A]"
   ]
  },
  {
   "cell_type": "code",
   "execution_count": 80,
   "metadata": {},
   "outputs": [
    {
     "data": {
      "text/html": [
       "<div>\n",
       "<style scoped>\n",
       "    .dataframe tbody tr th:only-of-type {\n",
       "        vertical-align: middle;\n",
       "    }\n",
       "\n",
       "    .dataframe tbody tr th {\n",
       "        vertical-align: top;\n",
       "    }\n",
       "\n",
       "    .dataframe thead th {\n",
       "        text-align: right;\n",
       "    }\n",
       "</style>\n",
       "<table border=\"1\" class=\"dataframe\">\n",
       "  <thead>\n",
       "    <tr style=\"text-align: right;\">\n",
       "      <th></th>\n",
       "      <th>A</th>\n",
       "      <th>B</th>\n",
       "      <th>Q</th>\n",
       "    </tr>\n",
       "  </thead>\n",
       "  <tbody>\n",
       "    <tr>\n",
       "      <th>0</th>\n",
       "      <td>0</td>\n",
       "      <td>0</td>\n",
       "      <td>0</td>\n",
       "    </tr>\n",
       "    <tr>\n",
       "      <th>1</th>\n",
       "      <td>0</td>\n",
       "      <td>1</td>\n",
       "      <td>0</td>\n",
       "    </tr>\n",
       "    <tr>\n",
       "      <th>2</th>\n",
       "      <td>1</td>\n",
       "      <td>0</td>\n",
       "      <td>0</td>\n",
       "    </tr>\n",
       "    <tr>\n",
       "      <th>3</th>\n",
       "      <td>1</td>\n",
       "      <td>1</td>\n",
       "      <td>1</td>\n",
       "    </tr>\n",
       "    <tr>\n",
       "      <th>4</th>\n",
       "      <td>0</td>\n",
       "      <td>0</td>\n",
       "      <td>0</td>\n",
       "    </tr>\n",
       "    <tr>\n",
       "      <th>5</th>\n",
       "      <td>0</td>\n",
       "      <td>1</td>\n",
       "      <td>0</td>\n",
       "    </tr>\n",
       "    <tr>\n",
       "      <th>6</th>\n",
       "      <td>1</td>\n",
       "      <td>0</td>\n",
       "      <td>0</td>\n",
       "    </tr>\n",
       "    <tr>\n",
       "      <th>7</th>\n",
       "      <td>1</td>\n",
       "      <td>1</td>\n",
       "      <td>1</td>\n",
       "    </tr>\n",
       "  </tbody>\n",
       "</table>\n",
       "</div>"
      ],
      "text/plain": [
       "   A  B  Q\n",
       "0  0  0  0\n",
       "1  0  1  0\n",
       "2  1  0  0\n",
       "3  1  1  1\n",
       "4  0  0  0\n",
       "5  0  1  0\n",
       "6  1  0  0\n",
       "7  1  1  1"
      ]
     },
     "execution_count": 80,
     "metadata": {},
     "output_type": "execute_result"
    }
   ],
   "source": [
    "pand = pd.read_csv('../Data/LogicalOperator_AND.csv', sep=',')\n",
    "pand"
   ]
  },
  {
   "cell_type": "code",
   "execution_count": 81,
   "metadata": {},
   "outputs": [],
   "source": [
    "class NeuralNetwork:\n",
    "    def __init__(self, x, y):\n",
    "        self.x, self.y = x, y\n",
    "        self.z, self.a = [], []\n",
    "        self.d, self.architecture = [], {}\n",
    "        self.LearningRate = 0.001\n",
    "        self.thetaList = []\n",
    "        self.dC = []"
   ]
  },
  {
   "cell_type": "code",
   "execution_count": 82,
   "metadata": {},
   "outputs": [],
   "source": [
    "def get_architecture(x, y, HiddenLayer=1):\n",
    "    input_units = len(x)\n",
    "    output_inits = len(y)\n",
    "    hiden_layers = list()\n",
    "    for i in range(HiddenLayer):\n",
    "        hiden_layers.append(input_units)\n",
    "    return {\n",
    "        'input_units': input_units,\n",
    "        'hiden_layers': hiden_layers,\n",
    "        'output_units': output_inits\n",
    "    }"
   ]
  },
  {
   "cell_type": "markdown",
   "metadata": {},
   "source": [
    "Init weights randomly"
   ]
  },
  {
   "cell_type": "code",
   "execution_count": 83,
   "metadata": {},
   "outputs": [],
   "source": [
    "def initalize_weights(architecture):\n",
    "    input_unit = architecture['input_units']\n",
    "    output_unit = architecture['output_units']\n",
    "    hiden_layer = architecture['hiden_layers']\n",
    "    totalLayers = len(hiden_layer)+2\n",
    "    thetaList = [list() for _ in range(totalLayers-1)]\n",
    "    for i in range(totalLayers-1):\n",
    "        if (i==0):\n",
    "            n, m = hiden_layer[0], input_unit\n",
    "        elif (i==totalLayers-2):\n",
    "            n, m = output_unit, hiden_layer[len(hiden_layer)-1]\n",
    "        else:\n",
    "            n, m = hiden_layer[i], hiden_layer[i-1]\n",
    "        thetaList[i] = [[random.uniform(0,1) for _ in range(m+1)] for _ in range(n)]\n",
    "    return thetaList"
   ]
  },
  {
   "cell_type": "markdown",
   "metadata": {},
   "source": [
    "<h2>Forward Propagation</h2>"
   ]
  },
  {
   "cell_type": "markdown",
   "metadata": {},
   "source": [
    "$${z}^{(i)} = {\\theta}^{(i-1)} {a}^{(i-1)}$$\n",
    "$${a}^{(i)} = g({z}^{(i)})$$\n",
    "$$with: {a[0]}^{(i)}=bias$$\n",
    "$${z}^{(0)} = \\varnothing$$\n",
    "$${a}^{(0)} = x$$"
   ]
  },
  {
   "cell_type": "code",
   "execution_count": 84,
   "metadata": {},
   "outputs": [],
   "source": [
    "def ForwardPropagation(data):\n",
    "    hiden_layer = data.architecture['hiden_layers']\n",
    "    totalLayers = len(data.architecture['hiden_layers'])+2\n",
    "    a, z = list(), list()\n",
    "    for i in range(totalLayers):\n",
    "        if (i==0):\n",
    "            a.append(data.x)\n",
    "            z.append([])\n",
    "        else:\n",
    "            tempA, theta = a[i-1], data.thetaList[i-1]\n",
    "            newZ = [[theta[unit][0]+fsum([tempA[k][j]*theta[unit][k+1] \n",
    "                for k in range(len(tempA))]) \n",
    "                    for j in range(len(tempA[0]))]\n",
    "                        for unit in range(len(theta))]\n",
    "            z.append(newZ)\n",
    "            newA = [[ActiveFunc(value) for value in row] for row in newZ]\n",
    "            a.append(newA)\n",
    "    return a, z"
   ]
  },
  {
   "cell_type": "markdown",
   "metadata": {},
   "source": [
    "<h2>Cost Function"
   ]
  },
  {
   "cell_type": "markdown",
   "metadata": {},
   "source": [
    "$$J(\\theta) = -\\frac{1}{m} [\\sum \\limits_{i=1}^{m} \\sum \\limits_{k=1}^{K} {y[k]}^{(i)}log(h\\theta({x}^{(i)}))[k] + (1-{y[k]}^{(i)})log(1-(h\\theta({x}^{(i)})))[k]]$$"
   ]
  },
  {
   "cell_type": "code",
   "execution_count": 85,
   "metadata": {},
   "outputs": [],
   "source": [
    "def ComputeCost(x, y):\n",
    "    m = len(x[0])\n",
    "    cost = -1/m\n",
    "    sigma = fsum([fsum([y[k][i]*log(h0(x[k][i])) + (1-y[k][i])*log(1-h0(x[k][i])) \n",
    "        for i in range(m)])\n",
    "            for k in range(len(y))])\n",
    "    return cost * sigma"
   ]
  },
  {
   "cell_type": "markdown",
   "metadata": {},
   "source": [
    "<h2>Backprogation</h2>"
   ]
  },
  {
   "cell_type": "markdown",
   "metadata": {},
   "source": [
    "$${\\delta}^{(i)} = {{\\theta}^{(i)}}^{T} {\\delta}^{(i+1)} * g'({z}^{(i)})$$\n",
    "$${\\Delta[i][j]}^{(l)} += {a[j]}^{(l)} {\\delta[i]}^{(l+1)}$$\n",
    "$$where: {D[i][j]}^{(l)}=\\frac{1}{m} {\\Delta[i][j]}^{(l)} = \\frac{\\sigma}{\\sigma {\\theta[i][j]}^{(l)}}J(\\theta)$$\n",
    "$$with: {\\delta}^{(0)} = \\varnothing$$"
   ]
  },
  {
   "cell_type": "code",
   "execution_count": 86,
   "metadata": {},
   "outputs": [],
   "source": [
    "def BackPropagation(data):\n",
    "    input_unit = data.architecture['input_units']\n",
    "    output_unit = data.architecture['output_units']\n",
    "    hiden_layer = data.architecture['hiden_layers']\n",
    "    totalLayers = len(hiden_layer)+2\n",
    "\n",
    "    delta = [[] for _ in range(totalLayers)]\n",
    "    delta[totalLayers-1] = [[valueH-valueY for valueY, valueH in zip(data.y[i], data.a[len(data.a)-1][i])]\n",
    "                                for i in range(len(data.y))]\n",
    "\n",
    "    for i in range(totalLayers-2, 0, -1):\n",
    "        first = MultiplyMatrices(TransposeMatrix(data.thetaList[i]), delta[i+1])\n",
    "        second = [[h0(value) for value in row] for row in data.z[i]]\n",
    "        newD = MultiplyMatrices(first, TransposeMatrix(second))\n",
    "        delta[i] = newD\n",
    "    \n",
    "    deltaCost = [[] for _ in range(totalLayers-1)]\n",
    "\n",
    "    for l in range(len(deltaCost)):\n",
    "        a = TransposeMatrix(data.a[l])\n",
    "        d = delta[l+1]\n",
    "        m = len(data.x[0])\n",
    "        theta = data.thetaList[l]\n",
    "        newC = [[0 for _ in row] for row in theta]\n",
    "\n",
    "        for i in range(len(theta)):\n",
    "            for j in range(len(theta[0])):\n",
    "                newC[i][j] += (1/m)*fsum([a[j][k]*d[i][k] for k in range(len(a[j]))])\n",
    "        deltaCost[l] = newC\n",
    "        \n",
    "    return deltaCost"
   ]
  },
  {
   "cell_type": "markdown",
   "metadata": {},
   "source": [
    "<h2>Gradient Descent</h2>"
   ]
  },
  {
   "cell_type": "markdown",
   "metadata": {},
   "source": [
    "$$\n",
    "{\\theta[i][j]}^{(l)} = {\\theta[i][j]}^{(l)} - \\alpha\\frac{\\sigma}{\\sigma {\\theta[i][j]}^{(l)}}J(\\theta)\n",
    "$$"
   ]
  },
  {
   "cell_type": "code",
   "execution_count": 87,
   "metadata": {},
   "outputs": [],
   "source": [
    "def GradientDescent(data, learningRate):\n",
    "    return [[[valueT-learningRate*valueG \n",
    "        for valueT, valueG in zip(unitT, unitG)] \n",
    "            for unitT, unitG in zip(layerT, layerG)] \n",
    "                for layerT, layerG in zip(data.thetaList, data.dC)]"
   ]
  },
  {
   "cell_type": "code",
   "execution_count": 89,
   "metadata": {},
   "outputs": [
    {
     "data": {
      "image/png": "[encoded data removed]",
      "text/plain": [
       "<Figure size 432x288 with 1 Axes>"
      ]
     },
     "metadata": {
      "needs_background": "light"
     },
     "output_type": "display_data"
    },
    {
     "name": "stdout",
     "output_type": "stream",
     "text": [
      "Cost after iteration 0: 0.933683\n",
      "Cost after iteration 100: 0.909904\n",
      "Cost after iteration 200: 0.887620\n",
      "Cost after iteration 300: 0.867195\n",
      "Cost after iteration 400: 0.848804\n",
      "Cost after iteration 500: 0.832484\n",
      "Cost after iteration 600: 0.818162\n",
      "Cost after iteration 700: 0.805697\n",
      "Cost after iteration 800: 0.794905\n",
      "Cost after iteration 900: 0.785589\n"
     ]
    }
   ],
   "source": [
    "x = [list(pand['A']), list(pand['B'])]\n",
    "y = [list(pand['Q'])]\n",
    "\n",
    "def NeuralNetworkFormal(x, y, poches=1000, learningRate=0.01):\n",
    "    data = NeuralNetwork(x, y)\n",
    "    data.architecture = get_architecture(data.x, data.y)\n",
    "    get_visual_architecture(data.architecture)\n",
    "    data.thetaList = initalize_weights(data.architecture)\n",
    "\n",
    "    for i in range(poches):\n",
    "        data.a, data.z = ForwardPropagation(data)\n",
    "        cost = ComputeCost(data.a[len(data.a)-1], data.y)\n",
    "        data.dC = BackPropagation(data)\n",
    "        data.thetaList = GradientDescent(data, learningRate)\n",
    "        if (i%100==0):\n",
    "            print (\"Cost after iteration %i: %f\" %(i, cost))\n",
    "\n",
    "NeuralNetworkFormal(x, y)"
   ]
  }
 ],
 "metadata": {
  "kernelspec": {
   "display_name": "Python 3.10.2 64-bit",
   "language": "python",
   "name": "python3"
  },
  "language_info": {
   "codemirror_mode": {
    "name": "ipython",
    "version": 3
   },
   "file_extension": ".py",
   "mimetype": "text/x-python",
   "name": "python",
   "nbconvert_exporter": "python",
   "pygments_lexer": "ipython3",
   "version": "3.10.2"
  },
  "orig_nbformat": 4,
  "vscode": {
   "interpreter": {
    "hash": "92ea70cb9331c87a6e87e6ba829f55a3cff66e051583a0c31932cac77bd3dc7a"
   }
  }
 },
 "nbformat": 4,
 "nbformat_minor": 2
}
